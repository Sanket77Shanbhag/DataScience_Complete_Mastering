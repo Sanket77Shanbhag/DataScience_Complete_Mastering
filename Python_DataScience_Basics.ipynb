{
  "nbformat": 4,
  "nbformat_minor": 0,
  "metadata": {
    "colab": {
      "provenance": [],
      "collapsed_sections": [
        "vAMs6y9-eC5y",
        "RqSEkU5h2fpY",
        "OJBQLY-c56hj",
        "aZh0lCFCDzzE",
        "vAwlXeqTGnOj"
      ]
    },
    "kernelspec": {
      "name": "python3",
      "display_name": "Python 3"
    },
    "language_info": {
      "name": "python"
    }
  },
  "cells": [
    {
      "cell_type": "code",
      "execution_count": null,
      "metadata": {
        "id": "QyykNqJvhraP",
        "colab": {
          "base_uri": "https://localhost:8080/"
        },
        "outputId": "699f4bbe-7e8d-40b2-d630-5161fb273b33"
      },
      "outputs": [
        {
          "output_type": "stream",
          "name": "stdout",
          "text": [
            "Hello\n"
          ]
        }
      ],
      "source": [
        "print(\"Hello\")"
      ]
    },
    {
      "cell_type": "markdown",
      "source": [
        "Guido Van Rossum introduced Python\n",
        "\n"
      ],
      "metadata": {
        "id": "z3eb1fDxiAeQ"
      }
    },
    {
      "cell_type": "markdown",
      "source": [
        "Characteristics of variable:\n",
        "\n",
        "Name/Identifier\n",
        "\n",
        "Data Type\n",
        "\n",
        "Value\n",
        "\n",
        "Assignment\n",
        "\n",
        "Memory Location\n",
        "\n"
      ],
      "metadata": {
        "id": "CJONRkW2mq79"
      }
    },
    {
      "cell_type": "code",
      "source": [
        "x =100\n",
        "print(x)"
      ],
      "metadata": {
        "id": "fIORIWLcmrZE",
        "colab": {
          "base_uri": "https://localhost:8080/"
        },
        "outputId": "f24dc3e0-64ce-4327-cd5e-03bfb8acf040"
      },
      "execution_count": null,
      "outputs": [
        {
          "output_type": "stream",
          "name": "stdout",
          "text": [
            "100\n"
          ]
        }
      ]
    },
    {
      "cell_type": "markdown",
      "source": [
        "**Variable rules**"
      ],
      "metadata": {
        "id": "NavHUcUYmsb_"
      }
    },
    {
      "cell_type": "markdown",
      "source": [
        "**Keywords Types:**\n",
        "\n",
        "Value keywords\n",
        "\n",
        "Operator keyword\n",
        "\n",
        "Control flow keyword\n",
        "\n",
        "Structure keyword\n",
        "\n",
        "Returning keyword\n",
        "\n",
        "Import keyword\n",
        "\n",
        "Exception handling keyword\n",
        "\n",
        "Asynchronous Programming keyword"
      ],
      "metadata": {
        "id": "GczkLZZOoDFO"
      }
    },
    {
      "cell_type": "code",
      "source": [
        "import keyword\n",
        "print(keyword.kwlist)"
      ],
      "metadata": {
        "id": "w_yCYpqvVo2Q",
        "colab": {
          "base_uri": "https://localhost:8080/"
        },
        "outputId": "cf39ec86-c28b-4dd3-87d8-c46cdd20b8ce"
      },
      "execution_count": null,
      "outputs": [
        {
          "output_type": "stream",
          "name": "stdout",
          "text": [
            "['False', 'None', 'True', 'and', 'as', 'assert', 'async', 'await', 'break', 'class', 'continue', 'def', 'del', 'elif', 'else', 'except', 'finally', 'for', 'from', 'global', 'if', 'import', 'in', 'is', 'lambda', 'nonlocal', 'not', 'or', 'pass', 'raise', 'return', 'try', 'while', 'with', 'yield']\n"
          ]
        }
      ]
    },
    {
      "cell_type": "markdown",
      "source": [
        "# **Data types**\n",
        "\n",
        "int\n",
        "\n",
        "float\n",
        "\n",
        "bool\n",
        "\n",
        "str\n",
        "\n",
        "list\n",
        "\n",
        "dict\n",
        "\n",
        "tuple"
      ],
      "metadata": {
        "id": "e84hjHRAac0u"
      }
    },
    {
      "cell_type": "code",
      "source": [
        "x= input(\"Enter string \")\n",
        "print(x)\n",
        "type(x)"
      ],
      "metadata": {
        "id": "ovG2fJTRecrY",
        "colab": {
          "base_uri": "https://localhost:8080/"
        },
        "outputId": "07f18aaf-9f18-4e9a-f909-c2c53993781d"
      },
      "execution_count": null,
      "outputs": [
        {
          "output_type": "stream",
          "name": "stdout",
          "text": [
            "Enter string a\n",
            "a\n"
          ]
        },
        {
          "output_type": "execute_result",
          "data": {
            "text/plain": [
              "str"
            ]
          },
          "metadata": {},
          "execution_count": 31
        }
      ]
    },
    {
      "cell_type": "code",
      "source": [
        "num = input(\"Enter a number \")\n",
        "print(\"Number \", num)\n",
        "print(\"Data type of number \",type(num))"
      ],
      "metadata": {
        "id": "2uVo3zYjqZn_",
        "colab": {
          "base_uri": "https://localhost:8080/"
        },
        "outputId": "fbe60a87-3a9f-4fa5-9900-6f199d16c27f"
      },
      "execution_count": null,
      "outputs": [
        {
          "name": "stdout",
          "output_type": "stream",
          "text": [
            "Enter a number a\n"
          ]
        }
      ]
    },
    {
      "cell_type": "code",
      "source": [
        "x = \"Hello\"\n",
        "print(x)\n",
        "print(type(x))"
      ],
      "metadata": {
        "id": "C7oKeoaXjsQc"
      },
      "execution_count": null,
      "outputs": []
    },
    {
      "cell_type": "code",
      "source": [
        "a,b = 5,4\n",
        "c= a+b\n",
        "print(c)\n",
        "type(c)"
      ],
      "metadata": {
        "id": "cd5zGWhqerng"
      },
      "execution_count": null,
      "outputs": []
    },
    {
      "cell_type": "code",
      "source": [
        "a= 20\n",
        "print(a)\n",
        "type(a)"
      ],
      "metadata": {
        "id": "FQi7DGIAj8FW"
      },
      "execution_count": null,
      "outputs": []
    },
    {
      "cell_type": "code",
      "source": [
        "a = int(input(\"Enter number \"))\n",
        "print(a)\n",
        "type(a)"
      ],
      "metadata": {
        "id": "fAzhJQNSj7rr"
      },
      "execution_count": null,
      "outputs": []
    },
    {
      "cell_type": "code",
      "source": [
        "pi = 3.14\n",
        "print(pi)\n",
        "type(pi)"
      ],
      "metadata": {
        "id": "L7KkoIhof38_"
      },
      "execution_count": null,
      "outputs": []
    },
    {
      "cell_type": "code",
      "source": [
        "b = 20\n",
        "print(float(b))\n",
        "type(b)"
      ],
      "metadata": {
        "id": "Ez46ZikWf3vJ"
      },
      "execution_count": null,
      "outputs": []
    },
    {
      "cell_type": "code",
      "source": [
        "b = 20.877\n",
        "print(type(b))"
      ],
      "metadata": {
        "id": "bUevvyS3kwXG"
      },
      "execution_count": null,
      "outputs": []
    },
    {
      "cell_type": "code",
      "source": [
        "b = float(input(\"Enter number \"))\n",
        "print(b)\n",
        "type(b)"
      ],
      "metadata": {
        "id": "_3B1W8DBf3W3"
      },
      "execution_count": null,
      "outputs": []
    },
    {
      "cell_type": "code",
      "source": [
        "x = [\"abc\", \"def\", \"hij\"]\n",
        "print(x)\n",
        "type(x)"
      ],
      "metadata": {
        "id": "OVxnVokqf27U"
      },
      "execution_count": null,
      "outputs": []
    },
    {
      "cell_type": "code",
      "source": [
        "l1 = ['apple','mango','banana']\n",
        "l2 = [1,2,3,4]\n",
        "l1.append(l2)\n",
        "print(l1)\n",
        "type(l1)"
      ],
      "metadata": {
        "id": "HonCt6sjlxyK"
      },
      "execution_count": null,
      "outputs": []
    },
    {
      "cell_type": "code",
      "source": [
        "a = True\n",
        "type(a)"
      ],
      "metadata": {
        "id": "IQX3h28qnPu9"
      },
      "execution_count": null,
      "outputs": []
    },
    {
      "cell_type": "code",
      "source": [
        "x = ('apple','mango','cherry')\n",
        "print(x)\n",
        "type(x)"
      ],
      "metadata": {
        "id": "yY5XpB3ZnbG1"
      },
      "execution_count": null,
      "outputs": []
    },
    {
      "cell_type": "code",
      "source": [
        "x = {'a':5,'b':7,'c':29}\n",
        "print(x)\n",
        "type(x)"
      ],
      "metadata": {
        "id": "B9rEwWndo5Uw"
      },
      "execution_count": null,
      "outputs": []
    },
    {
      "cell_type": "markdown",
      "source": [
        "# **Types of operators:**\n",
        "\n",
        "Arithmetic --> +,-,**,/,%,//(Floor division)\n",
        "\n",
        "Comparision --> <,>,==,!=,>=,<=\n",
        "\n",
        "Logical --> and, or,not\n",
        "\n",
        "Bitwise --> &,|,~,^,>>,<<\n",
        "\n",
        "Assignment--> =,+=,-=,/=,//=,%=\n",
        "\n",
        "Identity --> is, is not\n",
        "\n",
        "Membership --> in, not in"
      ],
      "metadata": {
        "id": "XESWJBmNosiG"
      }
    },
    {
      "cell_type": "code",
      "source": [
        "a = 5\n",
        "b=2\n",
        "print(\"Sum \",a+b)\n",
        "print(\"Subtraction \",a-b)\n",
        "print(\"Division \",a/b)\n",
        "print(\"Multiply \",a*b)\n",
        "print(\"Floor division \",a//b)\n",
        "print(\"Modulus \",a%b)\n",
        "print(\"Power \",a**b)"
      ],
      "metadata": {
        "id": "c2R9yTr_n67R"
      },
      "execution_count": null,
      "outputs": []
    },
    {
      "cell_type": "code",
      "source": [
        "a=5\n",
        "b=2\n",
        "print(a>b)"
      ],
      "metadata": {
        "id": "Bl_IhyNe1OBS"
      },
      "execution_count": null,
      "outputs": []
    },
    {
      "cell_type": "code",
      "source": [
        "a=5\n",
        "b=2\n",
        "print(a<b)"
      ],
      "metadata": {
        "id": "lecABkQI1y2-"
      },
      "execution_count": null,
      "outputs": []
    },
    {
      "cell_type": "code",
      "source": [
        "a=5\n",
        "b=2\n",
        "print(a==b)"
      ],
      "metadata": {
        "id": "kn5B-WLD12pl"
      },
      "execution_count": null,
      "outputs": []
    },
    {
      "cell_type": "code",
      "source": [
        "a=5\n",
        "b=5\n",
        "print(a!=b)\n",
        "print(a>=b)\n",
        "print(a<=b)"
      ],
      "metadata": {
        "id": "ivTgk05d2JaM"
      },
      "execution_count": null,
      "outputs": []
    },
    {
      "cell_type": "markdown",
      "source": [
        "# **Logical gates**\n",
        "\n",
        "and,or,not"
      ],
      "metadata": {
        "id": "EAibx28prCH2"
      }
    },
    {
      "cell_type": "code",
      "source": [
        "def AND (a, b):\n",
        "    if a == 1 and b == 1:\n",
        "        return True\n",
        "    else:\n",
        "        return False\n",
        "if __name__=='__main__':\n",
        "    print(AND(1, 1))\n",
        "    print(\"+---------------+----------------+\")\n",
        "\n",
        "    print(\" | AND Truth Table | Result |\")\n",
        "\n",
        "    print(\" A = False, B = False | A AND B =\",AND(False,False),\"| \")\n",
        "\n",
        "    print(\" A = False, B = True | A AND B =\",AND(False,True),\" | \")\n",
        "\n",
        "    print(\" A = True, B = False | A AND B =\",AND(True,False),\" | \")\n",
        "\n",
        "    print(\" A = True, B = True | A AND B =\",AND(True,True),\" | \")"
      ],
      "metadata": {
        "id": "v2uB_lZ4z5hb"
      },
      "execution_count": null,
      "outputs": []
    },
    {
      "cell_type": "markdown",
      "source": [
        "**Identity operator**\n",
        "\n",
        "Two values are located on the same part of the memory."
      ],
      "metadata": {
        "id": "8OjPmtYdJLBy"
      }
    },
    {
      "cell_type": "code",
      "source": [
        "x = [\"apple\", \"banana\"]\n",
        "y = [\"apple\", \"banana\"]\n",
        "z = x\n",
        "print(x is z)\n",
        "print(x is y)\n",
        "print(x == y)"
      ],
      "metadata": {
        "id": "DxkU4Hnh6EH1"
      },
      "execution_count": null,
      "outputs": []
    },
    {
      "cell_type": "code",
      "source": [
        "x = [\"apple\", \"banana\"]\n",
        "y = [\"apple\", \"banana\"]\n",
        "z = x\n",
        "print(x is not z)\n",
        "print(x is not y)\n",
        "print(x != y)"
      ],
      "metadata": {
        "id": "6IpY26147Fsi"
      },
      "execution_count": null,
      "outputs": []
    },
    {
      "cell_type": "markdown",
      "source": [
        "Lists are mutable"
      ],
      "metadata": {
        "id": "8yjYAAYTKNUO"
      }
    },
    {
      "cell_type": "markdown",
      "source": [
        "**Membership operator**\n",
        "\n",
        "Used to check whether a value or variable is found in sequence   "
      ],
      "metadata": {
        "id": "0xB3bi4TLHUi"
      }
    },
    {
      "cell_type": "code",
      "source": [
        "x = [\"apple\", \"banana\"]\n",
        "\n",
        "print(\"banana\" in x)"
      ],
      "metadata": {
        "id": "TG9PHIZ78tSS"
      },
      "execution_count": null,
      "outputs": []
    },
    {
      "cell_type": "code",
      "source": [
        "x = [\"apple\", \"banana\"]\n",
        "\n",
        "print(\"cherry\" not in x)"
      ],
      "metadata": {
        "id": "ebT9wMXv8w0W"
      },
      "execution_count": null,
      "outputs": []
    },
    {
      "cell_type": "markdown",
      "source": [
        "**Decision control statements in python**\n",
        "\n"
      ],
      "metadata": {
        "id": "9YSGc_DEL_kT"
      }
    },
    {
      "cell_type": "code",
      "source": [
        "num=10\n",
        "if num>0:\n",
        "  print(\"Positive number\")"
      ],
      "metadata": {
        "id": "bMT6Rs8dtUHt"
      },
      "execution_count": null,
      "outputs": []
    },
    {
      "cell_type": "code",
      "source": [
        "email = input(\"Enter email: \")\n",
        "if @ in email and .com in email:\n",
        "  print(\"Valid\")"
      ],
      "metadata": {
        "id": "IE-sMo4FONzV"
      },
      "execution_count": null,
      "outputs": []
    },
    {
      "cell_type": "code",
      "source": [
        "num = 9\n",
        "if num%2==0:\n",
        "  print(\"Even\")\n",
        "else:\n",
        "  print(\"odd\")"
      ],
      "metadata": {
        "id": "cYFKTlAxOeE7"
      },
      "execution_count": null,
      "outputs": []
    },
    {
      "cell_type": "code",
      "source": [
        "letter = input(\"Enter a letter \")\n",
        "if letter in \"AEIOUaeiou\":\n",
        "  print(\"Vowel\")\n",
        "else:\n",
        "  print(\"Consonant\")"
      ],
      "metadata": {
        "id": "w4rC7AEbOrQC"
      },
      "execution_count": null,
      "outputs": []
    },
    {
      "cell_type": "code",
      "source": [
        "s = 85\n",
        "if s>=90:\n",
        "  print(\"You got A\")\n",
        "elif s>=80:\n",
        "  print(\"You got B\")\n",
        "elif s>=70:\n",
        "  print(\"You got C\")\n",
        "else:\n",
        "  print(\"You need to improve your score\")"
      ],
      "metadata": {
        "id": "6wwUTJ0tP4y1"
      },
      "execution_count": null,
      "outputs": []
    },
    {
      "cell_type": "code",
      "source": [
        "hour=15\n",
        "if hour<12:\n",
        "  print(\"Good Morning!\")\n",
        "elif hour<18:\n",
        "  print(\"Good Afternoon!\")\n",
        "else:\n",
        "  print(\"Good Evening!\")"
      ],
      "metadata": {
        "id": "fPvkKa_r4bwZ"
      },
      "execution_count": null,
      "outputs": []
    },
    {
      "cell_type": "code",
      "source": [
        "month=\"December\"\n",
        "if month in [\"December\", \"January\", \"February\"]:\n",
        "  print(\"It's winter.\")\n",
        "elif month in [\"March\",\"April\", \"May\"]:\n",
        "  print(\"It's Spring.\")\n",
        "elif month in [\"June\", \"July\", \"August\"]:\n",
        "  print(\"It's Summer.\")\n",
        "else:\n",
        "  print(\"It's Autumn.\")"
      ],
      "metadata": {
        "id": "BqtUnnwI5BfE"
      },
      "execution_count": null,
      "outputs": []
    },
    {
      "cell_type": "code",
      "source": [
        "age=25\n",
        "if age>18:\n",
        "  if age<30:\n",
        "    print(\"You are in the 19-29 age group\")\n",
        "  else:\n",
        "    print(\"You are older than 29\")\n",
        "else:\n",
        "  print(\"You are under 18 years old\")"
      ],
      "metadata": {
        "id": "q4PEdtxaxaQM"
      },
      "execution_count": null,
      "outputs": []
    },
    {
      "cell_type": "code",
      "source": [
        "score= 85\n",
        "if score>=90:\n",
        "  grade=\"A\"\n",
        "else:\n",
        "  if score>=80:\n",
        "    grade=\"B\"\n",
        "  else:\n",
        "    if score>=70:\n",
        "      grade=\"C\"\n",
        "    else:\n",
        "      grade=\"D\"\n",
        "\n",
        "print(f\"Your grade is: {grade}\")"
      ],
      "metadata": {
        "id": "BJjwF85jx_6M"
      },
      "execution_count": null,
      "outputs": []
    },
    {
      "cell_type": "code",
      "source": [
        "for i in range(1,6):\n",
        "  print(i)"
      ],
      "metadata": {
        "id": "MrNETz2hn65a"
      },
      "execution_count": null,
      "outputs": []
    },
    {
      "cell_type": "code",
      "source": [
        "text = \"python\"\n",
        "for i in text:\n",
        "  print(i)"
      ],
      "metadata": {
        "id": "D8iNYsAUxwgZ"
      },
      "execution_count": null,
      "outputs": []
    },
    {
      "cell_type": "code",
      "source": [
        "n = 5\n",
        "for i in range(n):\n",
        "  print(' '*(n-i-1)+'*'*(i+1))"
      ],
      "metadata": {
        "id": "WPnsGQHCUYBX"
      },
      "execution_count": null,
      "outputs": []
    },
    {
      "cell_type": "code",
      "source": [
        "n = 5\n",
        "for i in range(n):\n",
        "  print('*'*(i+1))"
      ],
      "metadata": {
        "id": "WPZpMJgaVSVv"
      },
      "execution_count": null,
      "outputs": []
    },
    {
      "cell_type": "code",
      "source": [
        "def add(x,y):\n",
        "  return (x+y)\n",
        "\n",
        "def subtract(x,y):\n",
        "  return(x-y)\n",
        "\n",
        "add(34,4)"
      ],
      "metadata": {
        "id": "fovEL2eSWSKd"
      },
      "execution_count": null,
      "outputs": []
    },
    {
      "cell_type": "code",
      "source": [
        "c=1\n",
        "while c<=1:\n",
        "  print(c)\n",
        "  c+=1"
      ],
      "metadata": {
        "id": "b7rSDw54Mou9"
      },
      "execution_count": null,
      "outputs": []
    },
    {
      "cell_type": "code",
      "source": [
        "x =10\n",
        "while x>0:\n",
        "  print(x)\n",
        "  x-=1\n",
        "  if x==5:\n",
        "    break"
      ],
      "metadata": {
        "id": "UB8q3tW4TgPJ"
      },
      "execution_count": null,
      "outputs": []
    },
    {
      "cell_type": "code",
      "source": [
        "x=1\n",
        "while True:\n",
        "  if x>5:\n",
        "    break\n",
        "  print(x)\n",
        "  x+=1"
      ],
      "metadata": {
        "id": "R6fI9ljaUiL3"
      },
      "execution_count": null,
      "outputs": []
    },
    {
      "cell_type": "code",
      "source": [
        "secret =7\n",
        "guess=None\n",
        "while guess!=secret:\n",
        "  guess = int(input(\"Enter the no. \"))\n",
        "  if guess<secret:\n",
        "    print(\"Too low\")\n",
        "  elif guess>secret:\n",
        "    print(\"Too high\")\n",
        "  else:\n",
        "    print(\"Guess is correct\")"
      ],
      "metadata": {
        "id": "JyN4PqVXU-HJ"
      },
      "execution_count": null,
      "outputs": []
    },
    {
      "cell_type": "code",
      "source": [
        "for i in range(0,20):\n",
        "  if i%2==0:\n",
        "    continue\n",
        "    print(\"Continue executed\")\n",
        "  else:\n",
        "    print(i)"
      ],
      "metadata": {
        "id": "y7X_6PXWXcy4"
      },
      "execution_count": null,
      "outputs": []
    },
    {
      "cell_type": "code",
      "source": [
        "nums = [1,2,3,4,5,6,7,8,9,10]\n",
        "for num in nums:\n",
        "  if num%2==0:\n",
        "    continue\n",
        "  print(num)"
      ],
      "metadata": {
        "id": "L4z0vW1NYjZF"
      },
      "execution_count": null,
      "outputs": []
    },
    {
      "cell_type": "markdown",
      "source": [
        "Pass is used when some code is required but don't want to execute that code"
      ],
      "metadata": {
        "id": "r2xK0xF0ZoGP"
      }
    },
    {
      "cell_type": "code",
      "source": [
        "def fun():\n",
        "  pass"
      ],
      "metadata": {
        "id": "nMdTxCrKZ4x5"
      },
      "execution_count": null,
      "outputs": []
    },
    {
      "cell_type": "code",
      "source": [
        "class Myemptyclass:\n",
        "  pass"
      ],
      "metadata": {
        "id": "KwEt8QyPaB68"
      },
      "execution_count": null,
      "outputs": []
    },
    {
      "cell_type": "code",
      "source": [
        "for letter in 'contriver':\n",
        "  if letter=='t':\n",
        "    pass\n",
        "  else:\n",
        "    print(letter)"
      ],
      "metadata": {
        "id": "wLZ4FDXxaLmN"
      },
      "execution_count": null,
      "outputs": []
    },
    {
      "cell_type": "markdown",
      "source": [
        "**Cal Module**"
      ],
      "metadata": {
        "id": "sHYjj7hHenFQ"
      }
    },
    {
      "cell_type": "code",
      "source": [
        "pip install calc"
      ],
      "metadata": {
        "id": "kNTPrEmmX3k8"
      },
      "execution_count": null,
      "outputs": []
    },
    {
      "cell_type": "code",
      "source": [
        "import calc\n",
        "calc.add()"
      ],
      "metadata": {
        "id": "_i1Y60fnaUgS"
      },
      "execution_count": null,
      "outputs": []
    },
    {
      "cell_type": "code",
      "source": [
        "a =10\n",
        "b=20\n",
        "from calc import add,subtract\n",
        "print(add,subtract)"
      ],
      "metadata": {
        "id": "xzZT5gxcbHcA"
      },
      "execution_count": null,
      "outputs": []
    },
    {
      "cell_type": "markdown",
      "source": [
        "**Math Module**"
      ],
      "metadata": {
        "id": "rUq9G5LKeuDQ"
      }
    },
    {
      "cell_type": "code",
      "source": [
        "import math\n",
        "x = math.cos(2*math.pi)\n",
        "print(x)"
      ],
      "metadata": {
        "id": "Xpy4av5ccZil"
      },
      "execution_count": null,
      "outputs": []
    },
    {
      "cell_type": "code",
      "source": [
        "import math as m\n",
        "a=81\n",
        "x=m.sqrt(a)\n",
        "print(x)"
      ],
      "metadata": {
        "id": "ostqEU9meYzN"
      },
      "execution_count": null,
      "outputs": []
    },
    {
      "cell_type": "code",
      "source": [
        "from math import *\n",
        "a= int(input(\"Enter number \"))\n",
        "x = factorial(a)\n",
        "print(x)"
      ],
      "metadata": {
        "id": "rli-L896ekhx"
      },
      "execution_count": null,
      "outputs": []
    },
    {
      "cell_type": "markdown",
      "source": [
        "**Calendar Module**"
      ],
      "metadata": {
        "id": "6P4oidJBfV4p"
      }
    },
    {
      "cell_type": "code",
      "source": [
        "import calendar\n",
        "yy=2023\n",
        "mm=10\n",
        "print(calendar.month(yy,mm))"
      ],
      "metadata": {
        "id": "WlOwsBrgfaU3"
      },
      "execution_count": null,
      "outputs": []
    },
    {
      "cell_type": "code",
      "source": [
        "import calendar\n",
        "\n",
        "print(calendar.calendar(2023))"
      ],
      "metadata": {
        "id": "N-74sfmlgkLC"
      },
      "execution_count": null,
      "outputs": []
    },
    {
      "cell_type": "markdown",
      "source": [
        "**Recursion**"
      ],
      "metadata": {
        "id": "JQUM-weHihhs"
      }
    },
    {
      "cell_type": "code",
      "source": [
        "def fact(n):\n",
        "  if n==0:\n",
        "    return 1\n",
        "  else:\n",
        "    return n*fact(n-1)\n",
        "r = fact(5)\n",
        "print(r)"
      ],
      "metadata": {
        "id": "RZEX_OPng6bJ"
      },
      "execution_count": null,
      "outputs": []
    },
    {
      "cell_type": "code",
      "source": [
        "def fib(n):\n",
        "  if n<=1:\n",
        "    return n\n",
        "  else:\n",
        "    return fib(n-1)+fib(n-2)\n",
        "r = [fib(i) for i in range(10)]\n",
        "print(r)"
      ],
      "metadata": {
        "id": "eH5wOw_Hinp-"
      },
      "execution_count": null,
      "outputs": []
    },
    {
      "cell_type": "markdown",
      "source": [
        "Recursive execution\n",
        "\n",
        "f(10) =f(9)+f(8)\n",
        "\n",
        "f(10)= 21+13\n",
        "\n",
        "f(10)=34"
      ],
      "metadata": {
        "id": "XUMV3x5posJk"
      }
    },
    {
      "cell_type": "code",
      "source": [
        "def bin_search(arr,l,h,k):\n",
        "  if l<=h:\n",
        "    m = (l+h)//2\n",
        "    if arr[m] ==k:\n",
        "      return m\n",
        "    elif arr[m]>k:\n",
        "      return bin_search(arr,l,m-1,k)\n",
        "    else:\n",
        "      return bin_search(arr,m+1,h,k)\n",
        "  else:\n",
        "    return -1\n",
        "result = bin_search([1,2,3,4,5],0,4,3)\n",
        "print(result)"
      ],
      "metadata": {
        "id": "c7hMy72_j1dl"
      },
      "execution_count": null,
      "outputs": []
    },
    {
      "cell_type": "markdown",
      "source": [
        "**Anonymous Functions**"
      ],
      "metadata": {
        "id": "UEwEj4A2g7DU"
      }
    },
    {
      "cell_type": "code",
      "source": [
        "add = lambda a,b:a+b\n",
        "r= add(3,4)\n",
        "print(r)"
      ],
      "metadata": {
        "id": "Cb_5A6D8n63P"
      },
      "execution_count": null,
      "outputs": []
    },
    {
      "cell_type": "code",
      "source": [
        "data= [(1,4),(3,2),(2,8),(4,1)]\n",
        "sorted_data = sorted(data,key=lambda x: x[1])\n",
        "print(sorted_data)"
      ],
      "metadata": {
        "id": "yfCnkwXDn6zx"
      },
      "execution_count": null,
      "outputs": []
    },
    {
      "cell_type": "code",
      "source": [
        "n = [1,2,3,4,5]\n",
        "sq = list(map(lambda x: x**2, n))\n",
        "print(sq)"
      ],
      "metadata": {
        "id": "x_AHRJuBn6wp"
      },
      "execution_count": null,
      "outputs": []
    },
    {
      "cell_type": "code",
      "source": [
        "data = {'apple':5,'banana':2,'cherry':8,'date':1}\n",
        "sorted_data = dict(sorted(data.items(),key=lambda x: x[1]))\n",
        "print(sorted_data)"
      ],
      "metadata": {
        "id": "yE_YwRydn6t8"
      },
      "execution_count": null,
      "outputs": []
    },
    {
      "cell_type": "markdown",
      "source": [
        "# **File handling operation**"
      ],
      "metadata": {
        "id": "yf_zbymCh54u"
      }
    },
    {
      "cell_type": "markdown",
      "source": [
        "Opening, Reading a file\n",
        "\n",
        "Writing a file\n",
        "\n",
        "Using a Context Manager\n",
        "\n",
        "Appending a file\n",
        "\n",
        "Reading and Writing binary file"
      ],
      "metadata": {
        "id": "D0SWfa5ckka1"
      }
    },
    {
      "cell_type": "code",
      "source": [
        "file= open(\"example.txt\",\"r\")\n",
        "content=file.read()\n",
        "file.close()\n",
        "print(content)"
      ],
      "metadata": {
        "id": "MNJ_ei6HhvWV"
      },
      "execution_count": null,
      "outputs": []
    },
    {
      "cell_type": "code",
      "source": [
        "file= open(\"example.txt\",\"w\")\n",
        "file.write(\"Hello,Python\")\n",
        "file.close()"
      ],
      "metadata": {
        "id": "itgqBSgIn6kJ"
      },
      "execution_count": null,
      "outputs": []
    },
    {
      "cell_type": "code",
      "source": [
        "with open(\"example.txt\",\"r\") as file:\n",
        "  content=file.read()\n",
        "print(content)"
      ],
      "metadata": {
        "id": "VrUJYoREn6VS"
      },
      "execution_count": null,
      "outputs": []
    },
    {
      "cell_type": "markdown",
      "source": [
        "**OOPS in Python**"
      ],
      "metadata": {
        "id": "9Juh1MOMlfzb"
      }
    },
    {
      "cell_type": "code",
      "source": [
        "class Dog:\n",
        "  def __init__(self,name,breed):\n",
        "    self.name = name\n",
        "    self.breed = breed\n",
        "my_dog = Dog(\"Buddy\", \"Labrador\")\n",
        "print(my_dog.name,my_dog.breed)"
      ],
      "metadata": {
        "id": "hHzWr7VIkCNe"
      },
      "execution_count": null,
      "outputs": []
    },
    {
      "cell_type": "code",
      "source": [
        "class Circle:\n",
        "  def __init__(self,r):\n",
        "    self.r = r\n",
        "  def area(self):\n",
        "    return 3.14*self.r**2\n",
        "circle = Circle(5)\n",
        "print(circle.area())"
      ],
      "metadata": {
        "id": "oWqzcepJrFI4"
      },
      "execution_count": null,
      "outputs": []
    },
    {
      "cell_type": "code",
      "source": [
        "class Parrot:\n",
        "  name=\"\"\n",
        "  age=0\n",
        "p1 = Parrot()\n",
        "p1.name=\"Blu\"\n",
        "p1.age =10\n",
        "p2 = Parrot()\n",
        "p2.name=\"Woo\"\n",
        "p2.age =15\n",
        "print(f\"{p1.name} is {p1.age} yrs old\")\n",
        "print(f\"{p2.name} is {p2.age} yrs old\")"
      ],
      "metadata": {
        "id": "8RUCFSo9pyXU"
      },
      "execution_count": null,
      "outputs": []
    },
    {
      "cell_type": "code",
      "source": [
        "class Person:\n",
        "  def __init__(self,name,age):\n",
        "    self.name = name\n",
        "    self.age = age\n",
        "p1 = Person(\"Shri\",30)\n",
        "p2 = Person(\"Pun\",25)\n",
        "print(p1.name,p1.age)\n",
        "print(p2.name,p2.age)"
      ],
      "metadata": {
        "id": "y0YcFc62srDp"
      },
      "execution_count": null,
      "outputs": []
    },
    {
      "cell_type": "code",
      "source": [
        "class Car:\n",
        "  def __init__(self,make,model):\n",
        "    self.make = make\n",
        "    self.model = model\n",
        "  def get_info(self):\n",
        "    return f\"{self.make} {self.model}\"\n",
        "\n",
        "car = Car(\"Toyota\",\"Camry\")\n",
        "print(car.get_info())"
      ],
      "metadata": {
        "id": "fwZrUORJuARL"
      },
      "execution_count": null,
      "outputs": []
    },
    {
      "cell_type": "markdown",
      "source": [
        "**Inheritance**"
      ],
      "metadata": {
        "id": "Vw1tuWZkwJCR"
      }
    },
    {
      "cell_type": "code",
      "source": [
        "class Parent:\n",
        "  pass\n",
        "class Child(Parent):\n",
        "  pass"
      ],
      "metadata": {
        "id": "F-sDndwDvIaZ"
      },
      "execution_count": null,
      "outputs": []
    },
    {
      "cell_type": "code",
      "source": [
        "class Parent:\n",
        "  def parent_method(self):\n",
        "    print(\"Method in parent class\")\n",
        "class Child(Parent):\n",
        "  def child_method(self):\n",
        "    print(\"Method in child class\")\n",
        "child_instance = Child()\n",
        "child_instance.parent_method()\n",
        "child_instance.child_method()"
      ],
      "metadata": {
        "id": "m7vqqer5w7N4"
      },
      "execution_count": null,
      "outputs": []
    },
    {
      "cell_type": "code",
      "source": [
        "class Cat:\n",
        "  def speak(self):\n",
        "    return \"Meow!\"\n",
        "class Lion(Cat):\n",
        "  pass\n",
        "lion = Lion()\n",
        "print(lion.speak())"
      ],
      "metadata": {
        "id": "cho7nm9AxzgF"
      },
      "execution_count": null,
      "outputs": []
    },
    {
      "cell_type": "code",
      "source": [
        "class Animal:\n",
        "  def eat(self):\n",
        "    print(\"I can eat\")\n",
        "  def sleep(self):\n",
        "    print(\"I can sleep\")\n",
        "class Dog(Animal):\n",
        "  def bark(self):\n",
        "    print(\"I can bark! Woof Woof!\")\n",
        "dog1 = Dog()\n",
        "dog1.eat()\n",
        "dog1.sleep()\n",
        "dog1.bark()"
      ],
      "metadata": {
        "id": "OSF1H_6taaNt"
      },
      "execution_count": null,
      "outputs": []
    },
    {
      "cell_type": "markdown",
      "source": [
        "# **Types of Inheritance**\n",
        "\n",
        "Single Inheritance\n",
        "\n",
        "Multiple Inheritance\n",
        "\n",
        "Multilevel Inheritance\n",
        "\n",
        "Hierarchical Inheritance\n",
        "\n",
        "Hybrid Inheritance"
      ],
      "metadata": {
        "id": "vAMs6y9-eC5y"
      }
    },
    {
      "cell_type": "code",
      "source": [
        "class Class1:\n",
        "    def m(self):\n",
        "        print(\"In Class1\")\n",
        "\n",
        "class Class2(Class1):\n",
        "    def m(self):\n",
        "        print(\"In Class2\")\n",
        "\n",
        "class Class3(Class1):\n",
        "    def m(self):\n",
        "        print(\"In Class3\")\n",
        "\n",
        "class Class4(Class2, Class3):\n",
        "    pass\n",
        "\n",
        "obj = Class4()\n",
        "obj.m()"
      ],
      "metadata": {
        "id": "jTXph255fgWF"
      },
      "execution_count": null,
      "outputs": []
    },
    {
      "cell_type": "code",
      "source": [
        "class Employees():\n",
        "\n",
        "   def Name(self):\n",
        "       print(\"Employee Name: Sanket\")\n",
        "\n",
        "class salary(Employees):\n",
        "   def Salary(self):\n",
        "       print(\"Salary: 50000\")\n",
        "\n",
        "class Designation(salary):\n",
        "   def desig(self):\n",
        "       print(\"Designation: Software Engineer\")\n",
        "\n",
        "call = Designation()\n",
        "call.Name()\n",
        "call.Salary()\n",
        "call.desig()"
      ],
      "metadata": {
        "id": "_dFb1PQXgNmg",
        "colab": {
          "base_uri": "https://localhost:8080/"
        },
        "outputId": "0d5abb40-37cf-42a9-ea86-3abc443bb1b8"
      },
      "execution_count": null,
      "outputs": [
        {
          "output_type": "stream",
          "name": "stdout",
          "text": [
            "Employee Name: Sanket\n",
            "Salary: 50000\n",
            "Designation: Software Engineer\n"
          ]
        }
      ]
    },
    {
      "cell_type": "code",
      "source": [
        "class Parent:\n",
        "    def func1(self):\n",
        "        print(\"This function is in parent class.\")\n",
        "class Child1(Parent):\n",
        "    def func2(self):\n",
        "        print(\"This function is in child 1.\")\n",
        "class Child2(Parent):\n",
        "    def func3(self):\n",
        "        print(\"This function is in child 2.\")\n",
        "object1 = Child1()\n",
        "object2 = Child2()\n",
        "object1.func1()\n",
        "object1.func2()\n",
        "object2.func1()\n",
        "object2.func3()"
      ],
      "metadata": {
        "id": "-nUDbs1JgOHC",
        "colab": {
          "base_uri": "https://localhost:8080/"
        },
        "outputId": "e6a7b34c-f524-4b02-dddf-3e0732fcecfb"
      },
      "execution_count": null,
      "outputs": [
        {
          "output_type": "stream",
          "name": "stdout",
          "text": [
            "This function is in parent class.\n",
            "This function is in child 1.\n",
            "This function is in parent class.\n",
            "This function is in child 2.\n"
          ]
        }
      ]
    },
    {
      "cell_type": "markdown",
      "source": [
        "**Encapsulation**"
      ],
      "metadata": {
        "id": "bx4Aah9bhITH"
      }
    },
    {
      "cell_type": "code",
      "source": [
        "class MyClass:\n",
        "  def __init__(self):\n",
        "    self.public_var = 42\n",
        "    self._protected_var = \"protected\"\n",
        "    self.__private_method = \"private\"\n",
        "\n",
        "  def public_method(self):\n",
        "    return \"This is public method\"\n",
        "  def _protected_method(self):\n",
        "    return \"This is protected method\"\n",
        "  def __private_method(self):\n",
        "    return \"This is private method\"\n"
      ],
      "metadata": {
        "id": "3vquYT2ZhHta"
      },
      "execution_count": null,
      "outputs": []
    },
    {
      "cell_type": "code",
      "source": [
        "my_object = MyClass()\n",
        "print(my_object.public_var)\n",
        "print(my_object._protected_var)\n",
        "result = my_object._protected_var\n",
        "print(result)"
      ],
      "metadata": {
        "id": "Mbk9ik-nnuiD"
      },
      "execution_count": null,
      "outputs": []
    },
    {
      "cell_type": "code",
      "source": [
        "class Temperature:\n",
        "  def __init__(self,celsius):\n",
        "    self._celsius = celsius\n",
        "  def to_fahrenheit(self):\n",
        "    return (self._celsius*9/5) +32\n",
        "\n",
        "temp = Temperature(25)\n",
        "fahrenheit = temp.to_fahrenheit()\n",
        "print(fahrenheit)"
      ],
      "metadata": {
        "id": "1r4qq_5xjAjG"
      },
      "execution_count": null,
      "outputs": []
    },
    {
      "cell_type": "code",
      "source": [
        "class BankAccount():\n",
        "  def __init__(self,balance):\n",
        "    self._balance = balance\n",
        "  def deposit(self,amount):\n",
        "    if amount>0:\n",
        "      self._balance +=amount\n",
        "  def withdraw(self,amount):\n",
        "    if amount>0 and amount<=self._balance:\n",
        "      self._balance -= amount\n",
        "\n",
        "account = BankAccount(1000)\n",
        "account.deposit(500)\n",
        "account.withdraw(300)\n",
        "print(account._balance)"
      ],
      "metadata": {
        "id": "D0DBC99Tmbe3"
      },
      "execution_count": null,
      "outputs": []
    },
    {
      "cell_type": "markdown",
      "source": [
        "**Polymorphism**"
      ],
      "metadata": {
        "id": "J04M4NsJsoCz"
      }
    },
    {
      "cell_type": "code",
      "source": [
        "class Car:\n",
        "  def __init__(self,brand,model):\n",
        "    self.brand = brand\n",
        "    self.model = model\n",
        "  def move(self):\n",
        "    print(\"Drive\")\n",
        "class Boat:\n",
        "  def __init__(self,brand,model):\n",
        "    self.brand = brand\n",
        "    self.model = model\n",
        "  def move(self):\n",
        "    print(\"Sail\")\n",
        "class Plane:\n",
        "  def __init__(self,brand,model):\n",
        "    self.brand = brand\n",
        "    self.model = model\n",
        "  def move(self):\n",
        "    print(\"Fly\")\n",
        "car1 = Car(\"Ford\",\"Mustang\")\n",
        "boat1 = Boat(\"Ibiza\",\"Touring 20\")\n",
        "plane1 = Plane(\"Boeing\",\"747\")\n",
        "\n",
        "for x in (car1,boat1,plane1):\n",
        "  x.move()"
      ],
      "metadata": {
        "id": "w-g2D1YxqDjy"
      },
      "execution_count": null,
      "outputs": []
    },
    {
      "cell_type": "markdown",
      "source": [
        "**Abstract base class**"
      ],
      "metadata": {
        "id": "5as7fe9F1Nkz"
      }
    },
    {
      "cell_type": "code",
      "source": [
        "from abc import ABC, abstractmethod\n",
        "class Shape(ABC):\n",
        "  def area(self):\n",
        "    pass\n",
        "class Circle(Shape):\n",
        "  def __init__(self,radius):\n",
        "    self.radius = radius\n",
        "  def area(self):\n",
        "    return 3.14*self.radius**2\n",
        "class Rectangle(Shape):\n",
        "  def __init__(self,l,b):\n",
        "    self.l = l\n",
        "    self.b = b\n",
        "  def area(self):\n",
        "    return self.l*self.b\n",
        "C = Circle(5)\n",
        "R = Rectangle(4,6)\n",
        "print(C.area())\n",
        "print(R.area())"
      ],
      "metadata": {
        "id": "iYvxwH33wLhh",
        "colab": {
          "base_uri": "https://localhost:8080/"
        },
        "outputId": "2ca8d321-dd99-4c60-c8a8-c58b3b3726e7"
      },
      "execution_count": null,
      "outputs": [
        {
          "output_type": "stream",
          "name": "stdout",
          "text": [
            "78.5\n",
            "24\n"
          ]
        }
      ]
    },
    {
      "cell_type": "markdown",
      "source": [
        "# **Functions in Math**"
      ],
      "metadata": {
        "id": "YLHkAq6xsrF_"
      }
    },
    {
      "cell_type": "code",
      "source": [
        "import math\n",
        "print(math.factorial(5))"
      ],
      "metadata": {
        "colab": {
          "base_uri": "https://localhost:8080/"
        },
        "id": "QofyFkGmvbry",
        "outputId": "bc3d28d6-39f9-4cea-fec8-c21f293cfab0"
      },
      "execution_count": null,
      "outputs": [
        {
          "output_type": "stream",
          "name": "stdout",
          "text": [
            "120\n"
          ]
        }
      ]
    },
    {
      "cell_type": "code",
      "source": [
        "import math\n",
        "print(math.pow(4,2))"
      ],
      "metadata": {
        "colab": {
          "base_uri": "https://localhost:8080/"
        },
        "id": "eaCcGBICy9l4",
        "outputId": "8387a87a-c94d-430c-8574-371535489132"
      },
      "execution_count": null,
      "outputs": [
        {
          "output_type": "stream",
          "name": "stdout",
          "text": [
            "16.0\n"
          ]
        }
      ]
    },
    {
      "cell_type": "code",
      "source": [
        "import math\n",
        "print(math.sqrt(100))"
      ],
      "metadata": {
        "colab": {
          "base_uri": "https://localhost:8080/"
        },
        "id": "A8lowTD1y_LD",
        "outputId": "0eb350fe-d4a6-4e5c-a37d-c03fed285cb1"
      },
      "execution_count": null,
      "outputs": [
        {
          "output_type": "stream",
          "name": "stdout",
          "text": [
            "10.0\n"
          ]
        }
      ]
    },
    {
      "cell_type": "code",
      "source": [
        "import math\n",
        "print(math.radians(180))"
      ],
      "metadata": {
        "colab": {
          "base_uri": "https://localhost:8080/"
        },
        "id": "L5FhMjkOy_JD",
        "outputId": "e661debb-9acd-4f55-b4a7-28ca8fe8e065"
      },
      "execution_count": null,
      "outputs": [
        {
          "output_type": "stream",
          "name": "stdout",
          "text": [
            "3.141592653589793\n"
          ]
        }
      ]
    },
    {
      "cell_type": "code",
      "source": [
        "import math\n",
        "print(math.degrees(8.89))"
      ],
      "metadata": {
        "colab": {
          "base_uri": "https://localhost:8080/"
        },
        "id": "xK8JfuHjy_FF",
        "outputId": "6f020859-4823-48d6-d51c-de7d30f646cd"
      },
      "execution_count": null,
      "outputs": [
        {
          "output_type": "stream",
          "name": "stdout",
          "text": [
            "509.35947987130186\n"
          ]
        }
      ]
    },
    {
      "cell_type": "code",
      "source": [
        "import math\n",
        "print(math.sin(10))"
      ],
      "metadata": {
        "colab": {
          "base_uri": "https://localhost:8080/"
        },
        "id": "DhFMtuS1y_DI",
        "outputId": "07a75fcd-db6b-472f-e8e5-d2ec1c3ff3a6"
      },
      "execution_count": null,
      "outputs": [
        {
          "output_type": "stream",
          "name": "stdout",
          "text": [
            "-0.5440211108893698\n"
          ]
        }
      ]
    },
    {
      "cell_type": "code",
      "source": [
        "import math\n",
        "print(math.cos(10))"
      ],
      "metadata": {
        "colab": {
          "base_uri": "https://localhost:8080/"
        },
        "id": "gN25Ym06y--5",
        "outputId": "0c44baa7-99f7-4b67-f696-ee00dca0f846"
      },
      "execution_count": null,
      "outputs": [
        {
          "output_type": "stream",
          "name": "stdout",
          "text": [
            "-0.8390715290764524\n"
          ]
        }
      ]
    },
    {
      "cell_type": "code",
      "source": [
        "import math\n",
        "print(math.tan(10))"
      ],
      "metadata": {
        "colab": {
          "base_uri": "https://localhost:8080/"
        },
        "id": "9er36QNVy-9F",
        "outputId": "237e7143-5ef6-474c-eb89-f420438a49cd"
      },
      "execution_count": null,
      "outputs": [
        {
          "output_type": "stream",
          "name": "stdout",
          "text": [
            "0.6483608274590866\n"
          ]
        }
      ]
    },
    {
      "cell_type": "code",
      "source": [
        "import math\n",
        "print(math.log10(20))"
      ],
      "metadata": {
        "colab": {
          "base_uri": "https://localhost:8080/"
        },
        "id": "Gv1tPR9yy-49",
        "outputId": "8f3848a1-ff80-4aaf-e6b3-03f463fde0a0"
      },
      "execution_count": null,
      "outputs": [
        {
          "output_type": "stream",
          "name": "stdout",
          "text": [
            "1.3010299956639813\n"
          ]
        }
      ]
    },
    {
      "cell_type": "code",
      "source": [
        "import math\n",
        "print(math.gcd(3,6))"
      ],
      "metadata": {
        "colab": {
          "base_uri": "https://localhost:8080/"
        },
        "id": "atwJhnp2y-3H",
        "outputId": "3b9888c9-c99e-4141-fe5a-4f820ae92019"
      },
      "execution_count": null,
      "outputs": [
        {
          "output_type": "stream",
          "name": "stdout",
          "text": [
            "3\n"
          ]
        }
      ]
    },
    {
      "cell_type": "code",
      "source": [
        "import math\n",
        "print(math.fabs(-66.43))"
      ],
      "metadata": {
        "colab": {
          "base_uri": "https://localhost:8080/"
        },
        "id": "hbJZBJdLy-yv",
        "outputId": "0913b602-09ad-4f86-961c-4dfa0869ce3a"
      },
      "execution_count": null,
      "outputs": [
        {
          "output_type": "stream",
          "name": "stdout",
          "text": [
            "66.43\n"
          ]
        }
      ]
    },
    {
      "cell_type": "code",
      "source": [
        "import math\n",
        "print(math.remainder(9,2))"
      ],
      "metadata": {
        "colab": {
          "base_uri": "https://localhost:8080/"
        },
        "id": "4MCzIiVUy-w3",
        "outputId": "1bc66dd5-1733-43b7-ac5b-2c3f25a817b0"
      },
      "execution_count": null,
      "outputs": [
        {
          "output_type": "stream",
          "name": "stdout",
          "text": [
            "1.0\n"
          ]
        }
      ]
    },
    {
      "cell_type": "markdown",
      "source": [
        "# **String Functions**"
      ],
      "metadata": {
        "id": "RqSEkU5h2fpY"
      }
    },
    {
      "cell_type": "code",
      "source": [
        "mylist = \"apple\"\n",
        "x = len(mylist)\n",
        "print(x)"
      ],
      "metadata": {
        "colab": {
          "base_uri": "https://localhost:8080/"
        },
        "id": "P3AJ8XJLy-tE",
        "outputId": "ea3751b9-3888-4c72-8707-49d21a20575e"
      },
      "execution_count": null,
      "outputs": [
        {
          "output_type": "stream",
          "name": "stdout",
          "text": [
            "5\n"
          ]
        }
      ]
    },
    {
      "cell_type": "code",
      "source": [
        "txt = \"Hello, welcome to my world.\"\n",
        "x = txt.index(\"welcome\")\n",
        "print(x)"
      ],
      "metadata": {
        "colab": {
          "base_uri": "https://localhost:8080/"
        },
        "id": "hCE9TkDyy-q5",
        "outputId": "96abe88b-dfd6-4238-c353-6e3a0eef03e2"
      },
      "execution_count": null,
      "outputs": [
        {
          "output_type": "stream",
          "name": "stdout",
          "text": [
            "7\n"
          ]
        }
      ]
    },
    {
      "cell_type": "code",
      "source": [
        "txt = \"I love apples, apple are my favorite fruit\"\n",
        "x = txt.count(\"apple\")\n",
        "print(x)"
      ],
      "metadata": {
        "colab": {
          "base_uri": "https://localhost:8080/"
        },
        "id": "l8NKBYjGy-nG",
        "outputId": "0aa1711a-58dd-4d8b-a84d-687e39298f19"
      },
      "execution_count": null,
      "outputs": [
        {
          "output_type": "stream",
          "name": "stdout",
          "text": [
            "2\n"
          ]
        }
      ]
    },
    {
      "cell_type": "code",
      "source": [
        "txt = \"Hello my friends\"\n",
        "x = txt.upper()\n",
        "print(x)"
      ],
      "metadata": {
        "colab": {
          "base_uri": "https://localhost:8080/"
        },
        "id": "Jb6Gwc6Dy-lH",
        "outputId": "eaf54c3c-d4d7-4701-e786-22549c7374f1"
      },
      "execution_count": null,
      "outputs": [
        {
          "output_type": "stream",
          "name": "stdout",
          "text": [
            "HELLO MY FRIENDS\n"
          ]
        }
      ]
    },
    {
      "cell_type": "code",
      "source": [
        "txt = \"Hello my FRIENDS\"\n",
        "x = txt.lower()\n",
        "print(x)"
      ],
      "metadata": {
        "colab": {
          "base_uri": "https://localhost:8080/"
        },
        "id": "AHOeEKXmy-gp",
        "outputId": "aad5dead-f621-4466-eaec-7dbe11834937"
      },
      "execution_count": null,
      "outputs": [
        {
          "output_type": "stream",
          "name": "stdout",
          "text": [
            "hello my friends\n"
          ]
        }
      ]
    },
    {
      "cell_type": "code",
      "source": [
        "txt = \"Hello, welcome to my world.\"\n",
        "x = txt.startswith(\"Hello\")\n",
        "print(x)"
      ],
      "metadata": {
        "colab": {
          "base_uri": "https://localhost:8080/"
        },
        "id": "MCVX3NcGy-e5",
        "outputId": "75a8182b-486a-4329-ff1b-88b25868f3c6"
      },
      "execution_count": null,
      "outputs": [
        {
          "output_type": "stream",
          "name": "stdout",
          "text": [
            "True\n"
          ]
        }
      ]
    },
    {
      "cell_type": "code",
      "source": [
        "txt = \"Hello, welcome to my world.\"\n",
        "x = txt.endswith(\".\")\n",
        "print(x)"
      ],
      "metadata": {
        "colab": {
          "base_uri": "https://localhost:8080/"
        },
        "id": "DLb9pNtJy-ar",
        "outputId": "929336de-2022-4536-b177-2467359fdf60"
      },
      "execution_count": null,
      "outputs": [
        {
          "output_type": "stream",
          "name": "stdout",
          "text": [
            "True\n"
          ]
        }
      ]
    },
    {
      "cell_type": "code",
      "source": [
        "txt = \"welcome to the jungle\"\n",
        "x = txt.split()\n",
        "print(x)"
      ],
      "metadata": {
        "colab": {
          "base_uri": "https://localhost:8080/"
        },
        "id": "4VPXKxZXy-Y9",
        "outputId": "874c5205-1c4a-4386-972c-0f9d8da53fe5"
      },
      "execution_count": null,
      "outputs": [
        {
          "output_type": "stream",
          "name": "stdout",
          "text": [
            "['welcome', 'to', 'the', 'jungle']\n"
          ]
        }
      ]
    },
    {
      "cell_type": "markdown",
      "source": [
        "# **List Functions**"
      ],
      "metadata": {
        "id": "OJBQLY-c56hj"
      }
    },
    {
      "cell_type": "code",
      "source": [
        "mylist = [\"apple\", \"banana\", \"cherry\"]\n",
        "x = len(mylist)\n",
        "print(x)"
      ],
      "metadata": {
        "colab": {
          "base_uri": "https://localhost:8080/"
        },
        "id": "QurF11mOy-Uk",
        "outputId": "de92b058-6802-4d5d-a487-908ec494d596"
      },
      "execution_count": null,
      "outputs": [
        {
          "output_type": "stream",
          "name": "stdout",
          "text": [
            "3\n"
          ]
        }
      ]
    },
    {
      "cell_type": "code",
      "source": [
        "fruits = ['apple', 'banana', 'cherry']\n",
        "x = fruits.index(\"cherry\")\n",
        "print(x)"
      ],
      "metadata": {
        "colab": {
          "base_uri": "https://localhost:8080/"
        },
        "id": "jByyg1Pby-S7",
        "outputId": "30b63038-06aa-4095-bb7f-7f6e1db324e6"
      },
      "execution_count": null,
      "outputs": [
        {
          "output_type": "stream",
          "name": "stdout",
          "text": [
            "2\n"
          ]
        }
      ]
    },
    {
      "cell_type": "code",
      "source": [
        "fruits = ['apple', 'banana', 'cherry']\n",
        "x = fruits.count(\"cherry\")\n",
        "print(x)"
      ],
      "metadata": {
        "colab": {
          "base_uri": "https://localhost:8080/"
        },
        "id": "jvhi2ZDsy-Kv",
        "outputId": "791b1fb8-33ea-434b-b127-40db82ed14cc"
      },
      "execution_count": null,
      "outputs": [
        {
          "output_type": "stream",
          "name": "stdout",
          "text": [
            "1\n"
          ]
        }
      ]
    },
    {
      "cell_type": "code",
      "source": [
        "fruits = ['apple', 'banana', 'cherry']\n",
        "fruits.append(\"orange\")\n",
        "print(fruits)"
      ],
      "metadata": {
        "colab": {
          "base_uri": "https://localhost:8080/"
        },
        "id": "-V6zCi3py98Z",
        "outputId": "a997af04-9cf2-4085-b979-6e0ef245f8ff"
      },
      "execution_count": null,
      "outputs": [
        {
          "output_type": "stream",
          "name": "stdout",
          "text": [
            "['apple', 'banana', 'cherry', 'orange']\n"
          ]
        }
      ]
    },
    {
      "cell_type": "code",
      "source": [
        "fruits = ['apple', 'banana', 'cherry']\n",
        "fruits.insert(1, \"orange\")\n",
        "print(fruits)"
      ],
      "metadata": {
        "colab": {
          "base_uri": "https://localhost:8080/"
        },
        "id": "nCPfQ4_hBb1x",
        "outputId": "72707b28-6cb9-4639-9a39-50ebbf988665"
      },
      "execution_count": null,
      "outputs": [
        {
          "output_type": "stream",
          "name": "stdout",
          "text": [
            "['apple', 'orange', 'banana', 'cherry']\n"
          ]
        }
      ]
    },
    {
      "cell_type": "code",
      "source": [
        "fruits = ['apple', 'banana', 'cherry']\n",
        "fruits.remove(\"banana\")\n",
        "print(fruits)"
      ],
      "metadata": {
        "colab": {
          "base_uri": "https://localhost:8080/"
        },
        "id": "O3TwVhw2Bf80",
        "outputId": "06e78bc5-286f-4d99-df6f-0db5346840e5"
      },
      "execution_count": null,
      "outputs": [
        {
          "output_type": "stream",
          "name": "stdout",
          "text": [
            "['apple', 'cherry']\n"
          ]
        }
      ]
    },
    {
      "cell_type": "code",
      "source": [
        "fruits = ['apple', 'banana', 'cherry']\n",
        "fruits.pop(1)\n",
        "print(fruits)"
      ],
      "metadata": {
        "colab": {
          "base_uri": "https://localhost:8080/"
        },
        "id": "WYdu7MGrBf65",
        "outputId": "c26a5b9b-0813-4cf6-a0ab-43d4e04b3aac"
      },
      "execution_count": null,
      "outputs": [
        {
          "output_type": "stream",
          "name": "stdout",
          "text": [
            "['apple', 'cherry']\n"
          ]
        }
      ]
    },
    {
      "cell_type": "code",
      "source": [
        "cars = ['Ford', 'BMW', 'Volvo']\n",
        "cars.sort()\n",
        "print(cars)"
      ],
      "metadata": {
        "colab": {
          "base_uri": "https://localhost:8080/"
        },
        "id": "9htVkw5pBf21",
        "outputId": "6a8a93dd-5b00-4d0d-aee5-fffdaca1c6f3"
      },
      "execution_count": null,
      "outputs": [
        {
          "output_type": "stream",
          "name": "stdout",
          "text": [
            "['BMW', 'Ford', 'Volvo']\n"
          ]
        }
      ]
    },
    {
      "cell_type": "code",
      "source": [
        "fruits = ['apple', 'banana', 'cherry']\n",
        "fruits.reverse()\n",
        "print(fruits)"
      ],
      "metadata": {
        "colab": {
          "base_uri": "https://localhost:8080/"
        },
        "id": "4jAAxBLhBf1G",
        "outputId": "37da82c3-ee84-4a28-882b-cb1e1cf24d8e"
      },
      "execution_count": null,
      "outputs": [
        {
          "output_type": "stream",
          "name": "stdout",
          "text": [
            "['cherry', 'banana', 'apple']\n"
          ]
        }
      ]
    },
    {
      "cell_type": "code",
      "source": [
        "fruits = [\"apple\", \"banana\", \"cherry\"]\n",
        "fruits.clear()\n",
        "print(fruits)"
      ],
      "metadata": {
        "colab": {
          "base_uri": "https://localhost:8080/"
        },
        "id": "c6ogcmWYCRE7",
        "outputId": "5beadca5-f3df-4ae3-909a-784bb1570cc1"
      },
      "execution_count": null,
      "outputs": [
        {
          "output_type": "stream",
          "name": "stdout",
          "text": [
            "[]\n"
          ]
        }
      ]
    },
    {
      "cell_type": "code",
      "source": [
        "x = max(5, 10)\n",
        "print(x)"
      ],
      "metadata": {
        "colab": {
          "base_uri": "https://localhost:8080/"
        },
        "id": "8tUTjDjKCRBS",
        "outputId": "e560074e-8f25-448f-db33-d0cdf6d2efac"
      },
      "execution_count": null,
      "outputs": [
        {
          "output_type": "stream",
          "name": "stdout",
          "text": [
            "10\n"
          ]
        }
      ]
    },
    {
      "cell_type": "code",
      "source": [
        "x = min(5, 10)\n",
        "print(x)"
      ],
      "metadata": {
        "colab": {
          "base_uri": "https://localhost:8080/"
        },
        "id": "shfLCaFECQ_x",
        "outputId": "b466f547-5296-4eb6-af66-7e42703da2b6"
      },
      "execution_count": null,
      "outputs": [
        {
          "output_type": "stream",
          "name": "stdout",
          "text": [
            "5\n"
          ]
        }
      ]
    },
    {
      "cell_type": "code",
      "source": [
        "numbers = [1,2,3,4,5,1,4,5]\n",
        "Sum = sum(numbers)\n",
        "print(Sum)"
      ],
      "metadata": {
        "colab": {
          "base_uri": "https://localhost:8080/"
        },
        "id": "HVPIdat-CQ7p",
        "outputId": "7d5351ff-d42d-49ed-a5e1-919e78ca99f5"
      },
      "execution_count": null,
      "outputs": [
        {
          "output_type": "stream",
          "name": "stdout",
          "text": [
            "25\n"
          ]
        }
      ]
    },
    {
      "cell_type": "markdown",
      "source": [
        "# **Dictionary**"
      ],
      "metadata": {
        "id": "aZh0lCFCDzzE"
      }
    },
    {
      "cell_type": "code",
      "source": [
        "car = {\"brand\": \"Ford\",\"model\": \"Mustang\",\"year\": 1964}\n",
        "car.clear()\n",
        "print(car)"
      ],
      "metadata": {
        "colab": {
          "base_uri": "https://localhost:8080/"
        },
        "id": "k2x0LcViCQ5r",
        "outputId": "877c845b-7641-475b-cf50-a76cb4b5bf38"
      },
      "execution_count": null,
      "outputs": [
        {
          "output_type": "stream",
          "name": "stdout",
          "text": [
            "{}\n"
          ]
        }
      ]
    },
    {
      "cell_type": "code",
      "source": [
        "car = {\"brand\": \"Ford\",\"model\": \"Mustang\",\"year\": 1964}\n",
        "x = car.copy()\n",
        "print(x)"
      ],
      "metadata": {
        "colab": {
          "base_uri": "https://localhost:8080/"
        },
        "id": "UVgca-YTCQ1i",
        "outputId": "8d4f0ba2-c98d-4da4-efdc-1f055ca7b622"
      },
      "execution_count": null,
      "outputs": [
        {
          "output_type": "stream",
          "name": "stdout",
          "text": [
            "{'brand': 'Ford', 'model': 'Mustang', 'year': 1964}\n"
          ]
        }
      ]
    },
    {
      "cell_type": "code",
      "source": [
        "car = {\"brand\": \"Ford\",\"model\": \"Mustang\",\"year\": 1964}\n",
        "x = car.get(\"model\")\n",
        "print(x)"
      ],
      "metadata": {
        "colab": {
          "base_uri": "https://localhost:8080/"
        },
        "id": "UBG73KxACQz-",
        "outputId": "d81202fb-7fba-4e0d-87b3-e28c593e8e04"
      },
      "execution_count": null,
      "outputs": [
        {
          "output_type": "stream",
          "name": "stdout",
          "text": [
            "Mustang\n"
          ]
        }
      ]
    },
    {
      "cell_type": "code",
      "source": [
        "car = {\"brand\": \"Ford\",\"model\": \"Mustang\",\"year\": 1964}\n",
        "x = car.items()\n",
        "print(x)"
      ],
      "metadata": {
        "colab": {
          "base_uri": "https://localhost:8080/"
        },
        "id": "PLvQqh95CQve",
        "outputId": "409802ae-6365-43b0-fc9e-1f46dc874838"
      },
      "execution_count": null,
      "outputs": [
        {
          "output_type": "stream",
          "name": "stdout",
          "text": [
            "dict_items([('brand', 'Ford'), ('model', 'Mustang'), ('year', 1964)])\n"
          ]
        }
      ]
    },
    {
      "cell_type": "code",
      "source": [
        "car = {\"brand\": \"Ford\",\"model\": \"Mustang\",\"year\": 1964}\n",
        "x = car.keys()\n",
        "print(x)"
      ],
      "metadata": {
        "colab": {
          "base_uri": "https://localhost:8080/"
        },
        "id": "4JfUtWuqCQuO",
        "outputId": "29bab304-cc7a-41b6-c5ff-d5f359bf3a16"
      },
      "execution_count": null,
      "outputs": [
        {
          "output_type": "stream",
          "name": "stdout",
          "text": [
            "dict_keys(['brand', 'model', 'year'])\n"
          ]
        }
      ]
    },
    {
      "cell_type": "code",
      "source": [
        "car = {\"brand\": \"Ford\",\"model\": \"Mustang\",\"year\": 1964}\n",
        "car.pop(\"model\")\n",
        "print(car)"
      ],
      "metadata": {
        "colab": {
          "base_uri": "https://localhost:8080/"
        },
        "id": "snBbm6gzFzPC",
        "outputId": "c316d26c-4ae1-4def-bfd9-55ee0c7b8295"
      },
      "execution_count": null,
      "outputs": [
        {
          "output_type": "stream",
          "name": "stdout",
          "text": [
            "{'brand': 'Ford', 'year': 1964}\n"
          ]
        }
      ]
    },
    {
      "cell_type": "code",
      "source": [
        "car = {\"brand\": \"Ford\",\"model\": \"Mustang\",\"year\": 1964}\n",
        "car.popitem()\n",
        "print(car)"
      ],
      "metadata": {
        "colab": {
          "base_uri": "https://localhost:8080/"
        },
        "id": "RPRUrV0EFzBd",
        "outputId": "7de19126-c45a-4373-8f54-9f9b55cab048"
      },
      "execution_count": null,
      "outputs": [
        {
          "output_type": "stream",
          "name": "stdout",
          "text": [
            "{'brand': 'Ford', 'model': 'Mustang'}\n"
          ]
        }
      ]
    },
    {
      "cell_type": "code",
      "source": [
        "car = {\"brand\": \"Ford\",\"model\": \"Mustang\",\"year\": 1964}\n",
        "x = car.values()\n",
        "print(x)"
      ],
      "metadata": {
        "colab": {
          "base_uri": "https://localhost:8080/"
        },
        "id": "iOn7JLDIFy0W",
        "outputId": "d11c9052-4546-47d3-d04b-943cc1152fdf"
      },
      "execution_count": null,
      "outputs": [
        {
          "output_type": "stream",
          "name": "stdout",
          "text": [
            "dict_values(['Ford', 'Mustang', 1964])\n"
          ]
        }
      ]
    },
    {
      "cell_type": "markdown",
      "source": [
        "# **Set Function**"
      ],
      "metadata": {
        "id": "vAwlXeqTGnOj"
      }
    },
    {
      "cell_type": "code",
      "source": [
        "thisset = {\"apple\", \"banana\", \"cherry\"}\n",
        "print(len(thisset))"
      ],
      "metadata": {
        "id": "gOIsk-YAFymX",
        "colab": {
          "base_uri": "https://localhost:8080/"
        },
        "outputId": "964829bb-39de-46d5-a99b-9b59f31ce25c"
      },
      "execution_count": null,
      "outputs": [
        {
          "output_type": "stream",
          "name": "stdout",
          "text": [
            "3\n"
          ]
        }
      ]
    },
    {
      "cell_type": "code",
      "source": [
        "fruits = {\"apple\", \"banana\", \"cherry\"}\n",
        "fruits.add(\"orange\")\n",
        "print(fruits)"
      ],
      "metadata": {
        "colab": {
          "base_uri": "https://localhost:8080/"
        },
        "id": "9_qaaGWuJLoi",
        "outputId": "b6093d36-06ef-4ecd-a58e-f40bffa32482"
      },
      "execution_count": null,
      "outputs": [
        {
          "output_type": "stream",
          "name": "stdout",
          "text": [
            "{'cherry', 'banana', 'apple', 'orange'}\n"
          ]
        }
      ]
    },
    {
      "cell_type": "code",
      "source": [
        "fruits = {\"apple\", \"banana\", \"cherry\"}\n",
        "fruits.clear()\n",
        "print(fruits)"
      ],
      "metadata": {
        "colab": {
          "base_uri": "https://localhost:8080/"
        },
        "id": "taNJ7F_AJlL0",
        "outputId": "1dc5ba8d-7b5d-4bba-84ec-bf664ce22ff4"
      },
      "execution_count": null,
      "outputs": [
        {
          "output_type": "stream",
          "name": "stdout",
          "text": [
            "set()\n"
          ]
        }
      ]
    },
    {
      "cell_type": "code",
      "source": [
        "fruits = {\"apple\", \"banana\", \"cherry\"}\n",
        "x = fruits.copy()\n",
        "print(x)"
      ],
      "metadata": {
        "colab": {
          "base_uri": "https://localhost:8080/"
        },
        "id": "tKc8atT7JlIM",
        "outputId": "2293ed85-2ec9-48ac-92a8-c5ce93c14b8b"
      },
      "execution_count": null,
      "outputs": [
        {
          "output_type": "stream",
          "name": "stdout",
          "text": [
            "{'cherry', 'banana', 'apple'}\n"
          ]
        }
      ]
    },
    {
      "cell_type": "code",
      "source": [
        "fruits = {\"apple\", \"banana\", \"cherry\"}\n",
        "fruits.discard(\"banana\")\n",
        "print(fruits)"
      ],
      "metadata": {
        "colab": {
          "base_uri": "https://localhost:8080/"
        },
        "id": "rFQr2DysJlGG",
        "outputId": "48a55ee5-40b9-4cad-987c-63273d8aef03"
      },
      "execution_count": null,
      "outputs": [
        {
          "output_type": "stream",
          "name": "stdout",
          "text": [
            "{'cherry', 'apple'}\n"
          ]
        }
      ]
    },
    {
      "cell_type": "code",
      "source": [
        "x = {\"apple\", \"banana\", \"cherry\"}\n",
        "y = {\"google\", \"microsoft\", \"apple\"}\n",
        "z = x.intersection(y)\n",
        "print(z)"
      ],
      "metadata": {
        "colab": {
          "base_uri": "https://localhost:8080/"
        },
        "id": "_-jAxPaJJlCD",
        "outputId": "58f55e12-945c-4ca1-f6ca-96e0a95c479f"
      },
      "execution_count": null,
      "outputs": [
        {
          "output_type": "stream",
          "name": "stdout",
          "text": [
            "{'apple'}\n"
          ]
        }
      ]
    },
    {
      "cell_type": "code",
      "source": [
        "fruits = {\"apple\", \"banana\", \"cherry\"}\n",
        "fruits.pop()\n",
        "print(fruits)"
      ],
      "metadata": {
        "colab": {
          "base_uri": "https://localhost:8080/"
        },
        "id": "GPONPcVTJlAL",
        "outputId": "5312ad53-deda-4922-dc00-0633d660db32"
      },
      "execution_count": null,
      "outputs": [
        {
          "output_type": "stream",
          "name": "stdout",
          "text": [
            "{'banana', 'apple'}\n"
          ]
        }
      ]
    },
    {
      "cell_type": "code",
      "source": [
        "x = {\"a\", \"b\", \"c\"}\n",
        "y = {\"f\", \"e\", \"d\", \"c\", \"b\", \"a\"}\n",
        "z = x.issubset(y)\n",
        "print(z)"
      ],
      "metadata": {
        "colab": {
          "base_uri": "https://localhost:8080/"
        },
        "id": "_TrDXx1UJk87",
        "outputId": "1f318b20-b894-427e-9c0b-ac3b9c33ae35"
      },
      "execution_count": null,
      "outputs": [
        {
          "output_type": "stream",
          "name": "stdout",
          "text": [
            "True\n"
          ]
        }
      ]
    },
    {
      "cell_type": "code",
      "source": [
        "fruits = {\"apple\", \"banana\", \"cherry\"}\n",
        "fruits.remove(\"banana\")\n",
        "print(fruits)"
      ],
      "metadata": {
        "colab": {
          "base_uri": "https://localhost:8080/"
        },
        "id": "xvzmBvcxJk6x",
        "outputId": "a8ce154e-7a03-4cc7-9553-ef3731457986"
      },
      "execution_count": null,
      "outputs": [
        {
          "output_type": "stream",
          "name": "stdout",
          "text": [
            "{'cherry', 'apple'}\n"
          ]
        }
      ]
    },
    {
      "cell_type": "code",
      "source": [
        "x = {\"apple\", \"banana\", \"cherry\"}\n",
        "y = {\"google\", \"microsoft\", \"apple\"}\n",
        "z = x.union(y)\n",
        "print(z)"
      ],
      "metadata": {
        "colab": {
          "base_uri": "https://localhost:8080/"
        },
        "id": "PJh3HW51LFqW",
        "outputId": "547f6cb8-9715-476f-a4d1-f2cb371cd35e"
      },
      "execution_count": null,
      "outputs": [
        {
          "output_type": "stream",
          "name": "stdout",
          "text": [
            "{'banana', 'google', 'microsoft', 'cherry', 'apple'}\n"
          ]
        }
      ]
    },
    {
      "cell_type": "code",
      "source": [
        "x = {\"apple\", \"banana\", \"cherry\"}\n",
        "y = {\"google\", \"microsoft\", \"apple\"}\n",
        "x.update(y)\n",
        "print(x)"
      ],
      "metadata": {
        "colab": {
          "base_uri": "https://localhost:8080/"
        },
        "id": "zpH8DhmCLFm_",
        "outputId": "01ffc458-17e1-469a-e6e3-7b56fafc0e57"
      },
      "execution_count": null,
      "outputs": [
        {
          "output_type": "stream",
          "name": "stdout",
          "text": [
            "{'banana', 'google', 'microsoft', 'cherry', 'apple'}\n"
          ]
        }
      ]
    }
  ]
}